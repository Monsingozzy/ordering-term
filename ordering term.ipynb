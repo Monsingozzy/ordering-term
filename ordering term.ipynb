{
 "cells": [
  {
   "cell_type": "markdown",
   "metadata": {},
   "source": [
    "# ordering terms "
   ]
  },
  {
   "cell_type": "code",
   "execution_count": null,
   "metadata": {},
   "outputs": [],
   "source": [
    "t=int(input())\n",
    "\n",
    "for i in range(t):\n",
    "    l=[]\n",
    "    for i in range(3): #we fix this upto 3 steps \n",
    "        a=list(map(int,input().split())) #here we access in map key and value nd adding into array L\n",
    "        l.append(a)\n",
    "    \n",
    "    l=sorted(l)\n",
    "    \n",
    "    count1=0\n",
    "    count2=0\n",
    "    answer=\"yes\"\n",
    "    for j in range(3):   #here checking condistions is there order in value or not \n",
    "        if(l[0][j]<l[1][j]):#if value first is less then second then we increasing count by 1 \n",
    "            count1+=1 \n",
    "        if(l[1][j]<l[2][j]):#also next checking values condisiton ok then increment count 2\n",
    "            count2+=1\n",
    "        if(l[0][j]>l[1][j] or l[1][j]>l[2][j]):\n",
    "            answer=\"no\"\n",
    "            break\n",
    "        if(count1==0 or count2==0) and j==2: #here if any increment then we can say yes otherwise no\n",
    "            answer=\"no\"\n",
    "    print(answer)"
   ]
  },
  {
   "cell_type": "markdown",
   "metadata": {},
   "source": [
    "## 1 ) t taking input len\n",
    "\n",
    "\n",
    "## 2 ) using maps we take input by user it by key and value \n",
    "\n",
    "\n",
    "## 3 ) every input add in arrray and its sorted \n",
    "\n",
    "\n",
    "## 4 ) checking values by its index if there any order if yes then we increment one value \n",
    "\n",
    "## 5 ) if next step also check same if yes increment other value \n",
    "\n",
    "## 6) in third place we check if any value no increment if no means we dont order in that place so we also check if index 2 j==2 then in that we geting that we dont have order in value so print \"no\" else print \"yes\""
   ]
  },
  {
   "cell_type": "code",
   "execution_count": null,
   "metadata": {},
   "outputs": [],
   "source": []
  }
 ],
 "metadata": {
  "kernelspec": {
   "display_name": "Python 3",
   "language": "python",
   "name": "python3"
  },
  "language_info": {
   "codemirror_mode": {
    "name": "ipython",
    "version": 3
   },
   "file_extension": ".py",
   "mimetype": "text/x-python",
   "name": "python",
   "nbconvert_exporter": "python",
   "pygments_lexer": "ipython3",
   "version": "3.7.9"
  }
 },
 "nbformat": 4,
 "nbformat_minor": 4
}
